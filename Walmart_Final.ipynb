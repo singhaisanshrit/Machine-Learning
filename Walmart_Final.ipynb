{
 "cells": [
  {
   "cell_type": "markdown",
   "id": "9343644e",
   "metadata": {},
   "source": [
    "# Importing the library\n",
    "The first step involves importing the library. we have imported all the important tools numpy, pandas, matplotlib and sklearn that we will require for our problem."
   ]
  },
  {
   "cell_type": "code",
   "execution_count": 61,
   "id": "3e1cb88e",
   "metadata": {},
   "outputs": [],
   "source": [
    "# import the library\n",
    "import numpy as np\n",
    "import matplotlib.pyplot as plt\n",
    "import pandas as pd\n",
    "from sklearn.metrics import f1_score\n",
    "from sklearn.linear_model import LogisticRegression\n",
    "from sklearn.preprocessing import StandardScaler\n",
    "from imblearn.over_sampling import SMOTE\n",
    "import warnings\n",
    "warnings.filterwarnings(\"ignore\")"
   ]
  },
  {
   "cell_type": "markdown",
   "id": "651aebba",
   "metadata": {},
   "source": [
    "# Load and Clean the DataSet\n",
    "The data set provided is in the form of CSV file. The data for traing and validation are provided in a seaprate excel files. The first step in any machine learning project involves cleaning of data. The primary requirement of any model is to have clean data for training. The data provided consists of total 31 columns and 94000 rows. The first 30 column belong to input x having 30 features and the last column is target variable. The problem is classification problem as the target variable is not continous. Another interesting thing to be noticed is that the data does not contain NaN values. But, looking the data carefully we observed some abrupt 0 values in some columns, those 0 values are replaced with NaN. In the later section NaN will be replaced with the mean values in the column using sklearn imputer class. "
   ]
  },
  {
   "cell_type": "code",
   "execution_count": 62,
   "id": "0bfa8ea3",
   "metadata": {},
   "outputs": [],
   "source": [
    "#Loading the data set\n",
    "dataset_train = pd.read_csv('Data Science HW design model.csv')\n",
    "dataset_val = pd.read_csv('Data Science HW design val.csv')\n",
    "X_train = dataset_train.iloc[:, :-1]\n",
    "X_val = dataset_val.iloc[:,:-1]\n",
    "# many values are ubruptly zero, applying the replacement 0 with NaN\n",
    "X_train = X_train.replace(0,np.nan)\n",
    "X_val = X_val.replace(0,np.nan)"
   ]
  },
  {
   "cell_type": "code",
   "execution_count": 63,
   "id": "273b2b84",
   "metadata": {},
   "outputs": [],
   "source": [
    "# Importing imputer class from sklearn library to fill NaN values with the mean.\n",
    "from sklearn.impute import SimpleImputer\n",
    "imputer = SimpleImputer(missing_values = np.nan,strategy = 'mean')\n",
    "imputer.fit(X_train.values)\n",
    "imputer.fit(X_val.values)\n",
    "X_train = imputer.transform(X_train.values)\n",
    "X_val = imputer.transform(X_val.values)"
   ]
  },
  {
   "cell_type": "markdown",
   "id": "369c16bf",
   "metadata": {},
   "source": [
    "The training and validation dataset will be loaded from separte excel files"
   ]
  },
  {
   "cell_type": "code",
   "execution_count": 64,
   "id": "84a3da3d",
   "metadata": {},
   "outputs": [],
   "source": [
    "# Spliting the testing and training data based on the csv files\n",
    "#x_train = X_train.iloc[:,:-1].values\n",
    "x_train = X_train\n",
    "y_train = dataset_train.iloc[:,-1].values\n",
    "#x_test = X_test.iloc[:, :-1].values\n",
    "x_val = X_val\n",
    "y_val = dataset_val.iloc[:, -1].values"
   ]
  },
  {
   "cell_type": "markdown",
   "id": "cf044a49",
   "metadata": {},
   "source": [
    "The data provided is unbalanced data. Therefore, even with the wrong predictions, we will end up getting a very high accuracy. There can be different ways to tackle this imbalace \n",
    "- To keep the equal no. of both the dataset in minority and majority.\n",
    "- Duplicating the data in minority\n",
    "- Generate sythetic example using K-nearest neighbors using Smothe\n",
    "Based on our data we have used smothe to adequately make a balance between the data."
   ]
  },
  {
   "cell_type": "code",
   "execution_count": 65,
   "id": "95702601",
   "metadata": {},
   "outputs": [
    {
     "name": "stdout",
     "output_type": "stream",
     "text": [
      "#1:  4000 #0: 90000\n",
      "#1:  90000 #0: 90000\n"
     ]
    }
   ],
   "source": [
    "# Data is imbalanced, therefore using smote() to generate a balanced dataset\n",
    "oversampler = SMOTE()\n",
    "print('#1: ', np.sum(y_train), '#0:', np.sum(1-y_train))\n",
    "x_train, y_train = oversampler.fit_resample(x_train, y_train)\n",
    "print('#1: ', np.sum(y_train), '#0:', np.sum(1-y_train))"
   ]
  },
  {
   "cell_type": "markdown",
   "id": "1dc465a0",
   "metadata": {},
   "source": [
    "The idea behind the StandardScaler is that variables that are measured at different scales do not contribute equally to the fit of the model and the learning function of the model and could end up creating a bias. \n",
    "So, to deal with this potential problem, we need to standardize the data (μ = 0, σ = 1) that is typically used before we integrate it into the machine learning model."
   ]
  },
  {
   "cell_type": "code",
   "execution_count": 66,
   "id": "dd2ee731",
   "metadata": {},
   "outputs": [],
   "source": [
    "# Performing Standard scaling on the data set\n",
    "sc = StandardScaler()\n",
    "x_train = sc.fit_transform(x_train)\n",
    "x_val = sc.transform(x_val)"
   ]
  },
  {
   "cell_type": "markdown",
   "id": "0e7f9018",
   "metadata": {},
   "source": [
    "# Logistic Regression"
   ]
  },
  {
   "cell_type": "code",
   "execution_count": 67,
   "id": "e3966cc0",
   "metadata": {},
   "outputs": [
    {
     "data": {
      "text/plain": [
       "LogisticRegression(random_state=0)"
      ]
     },
     "execution_count": 67,
     "metadata": {},
     "output_type": "execute_result"
    }
   ],
   "source": [
    "# Initializing the Logistic Regression classifier\n",
    "classifier_logres = LogisticRegression(random_state = 0)\n",
    "classifier_logres.fit(x_train, y_train)"
   ]
  },
  {
   "cell_type": "code",
   "execution_count": 68,
   "id": "70ab36cb",
   "metadata": {},
   "outputs": [],
   "source": [
    "# Predict the value from the classifier\n",
    "y_pred_logres = classifier_logres.predict(sc.transform(x_val))\n",
    "y_pred_logres_prob = classifier_logres.predict_proba(sc.transform(x_val))\n",
    "result1_log = np.concatenate((y_pred_logres.reshape(len(y_pred_logres),1), y_val.reshape(len(y_val),1)),1)\n"
   ]
  },
  {
   "cell_type": "code",
   "execution_count": 69,
   "id": "9bb7442d",
   "metadata": {},
   "outputs": [
    {
     "name": "stdout",
     "output_type": "stream",
     "text": [
      "[[6355 3645]\n",
      " [ 632  868]]\n",
      "Accuracy score using Logistic Regression Model is 0.6280869565217392\n",
      "F1 score using Logistic Regression Model is 0.28870779976717115\n"
     ]
    }
   ],
   "source": [
    "# # Initializing the confusion matrix \n",
    "from sklearn.metrics import confusion_matrix, accuracy_score\n",
    "cm_logres = confusion_matrix(y_val, y_pred_logres)\n",
    "print(cm_logres)\n",
    "acc_logres = accuracy_score(y_val, y_pred_logres)\n",
    "print('Accuracy score using Logistic Regression Model is', acc_logres)\n",
    "print('F1 score using Logistic Regression Model is', f1_score(y_val, y_pred_logres))"
   ]
  },
  {
   "cell_type": "markdown",
   "id": "fd31ad82",
   "metadata": {},
   "source": [
    "For the given dataset, accuracy in not the proper metric for evaluation as the dataset is unbalanced. Therefore, F1 score is evaluated"
   ]
  },
  {
   "cell_type": "markdown",
   "id": "f7c2619c",
   "metadata": {},
   "source": [
    "## Hyperparameter Tuning for Logistic Regression"
   ]
  },
  {
   "cell_type": "code",
   "execution_count": 70,
   "id": "ed2f949c",
   "metadata": {},
   "outputs": [],
   "source": [
    "# Initializing grid search and passing dictionary as input \n",
    "par_grid_logres = [\n",
    "    {'penalty' : ['l1','l2','none'] ,\n",
    "     'C' : np.logspace(-2,2,10),\n",
    "     'solver': ['lbfgs','newton-cg','liblinear','sag','saga'],\n",
    "     'max_iter': [100,1000,2500,5000]\n",
    "    }\n",
    "]"
   ]
  },
  {
   "cell_type": "markdown",
   "id": "c7b81f0a",
   "metadata": {},
   "source": [
    "## Train Testing data split\n",
    "Cross-validation is a resampling procedure used to evaluate machine learning models on a limited data sample. It divides the data into k set and where set will be choosen randomly as for testing to training for the optimum results "
   ]
  },
  {
   "cell_type": "code",
   "execution_count": 71,
   "id": "564dd8cc",
   "metadata": {},
   "outputs": [],
   "source": [
    "from sklearn.model_selection import GridSearchCV\n",
    "c_logres = GridSearchCV(classifier_logres, param_grid = par_grid_logres,cv = 4, verbose = True, n_jobs = -1)"
   ]
  },
  {
   "cell_type": "code",
   "execution_count": 72,
   "id": "e13353e6",
   "metadata": {},
   "outputs": [
    {
     "name": "stdout",
     "output_type": "stream",
     "text": [
      "Fitting 4 folds for each of 600 candidates, totalling 2400 fits\n"
     ]
    },
    {
     "data": {
      "text/plain": [
       "GridSearchCV(cv=4, estimator=LogisticRegression(random_state=0), n_jobs=-1,\n",
       "             param_grid=[{'C': array([1.00000000e-02, 2.78255940e-02, 7.74263683e-02, 2.15443469e-01,\n",
       "       5.99484250e-01, 1.66810054e+00, 4.64158883e+00, 1.29154967e+01,\n",
       "       3.59381366e+01, 1.00000000e+02]),\n",
       "                          'max_iter': [100, 1000, 2500, 5000],\n",
       "                          'penalty': ['l1', 'l2', 'none'],\n",
       "                          'solver': ['lbfgs', 'newton-cg', 'liblinear', 'sag',\n",
       "                                     'saga']}],\n",
       "             verbose=True)"
      ]
     },
     "execution_count": 72,
     "metadata": {},
     "output_type": "execute_result"
    }
   ],
   "source": [
    "#Fitting best parameters\n",
    "c_logres\n",
    "c_logres.fit(x_train,y_train)"
   ]
  },
  {
   "cell_type": "code",
   "execution_count": 73,
   "id": "9ea79e8e",
   "metadata": {},
   "outputs": [
    {
     "data": {
      "text/plain": [
       "{'C': 0.01, 'max_iter': 100, 'penalty': 'l1', 'solver': 'saga'}"
      ]
     },
     "execution_count": 73,
     "metadata": {},
     "output_type": "execute_result"
    }
   ],
   "source": [
    "# The best output parameters for model\n",
    "c_logres.best_params_"
   ]
  },
  {
   "cell_type": "markdown",
   "id": "05a527f6",
   "metadata": {},
   "source": [
    "The following are the best for logistic regression model"
   ]
  },
  {
   "cell_type": "markdown",
   "id": "9b2c7c85",
   "metadata": {},
   "source": [
    "## Logistic Regression classifier with hyperparameters from grid search\n",
    "Grid search uses a different combination of all the specified hyperparameters and their values and calculates the performance for each combination and selects the best value for the hyperparameters. "
   ]
  },
  {
   "cell_type": "code",
   "execution_count": 89,
   "id": "76a6fd95",
   "metadata": {},
   "outputs": [
    {
     "data": {
      "text/plain": [
       "LogisticRegression(C=0.01, penalty='l1', solver='saga')"
      ]
     },
     "execution_count": 89,
     "metadata": {},
     "output_type": "execute_result"
    }
   ],
   "source": [
    "classifier_logres1 = LogisticRegression(penalty = 'l1', C = 0.01, max_iter = 100, solver = 'saga')\n",
    "classifier_logres1.fit(x_train, y_train)"
   ]
  },
  {
   "cell_type": "code",
   "execution_count": 90,
   "id": "4a89b3e2",
   "metadata": {},
   "outputs": [],
   "source": [
    "y_pred_logres1 = classifier_logres1.predict(x_val)\n",
    "y_pred_logres1_prob = classifier_logres1.predict_proba(x_val)\n",
    "result1 = y_pred_logres1.copy()\n",
    "pd.DataFrame(result1).to_csv(\"result1.csv\")"
   ]
  },
  {
   "cell_type": "code",
   "execution_count": 91,
   "id": "8cc4719e",
   "metadata": {},
   "outputs": [
    {
     "name": "stdout",
     "output_type": "stream",
     "text": [
      "[[7627 2373]\n",
      " [ 395 1105]]\n",
      "Accuracy score using Logistic Regression Model is 0.7593043478260869\n",
      "F1 score using Logistic Regression Model is 0.44395339493772595\n"
     ]
    }
   ],
   "source": [
    "from sklearn.metrics import confusion_matrix, accuracy_score\n",
    "cm_logres1 = confusion_matrix(y_val, y_pred_logres1)\n",
    "print(cm_logres1)\n",
    "acc_logres1 = accuracy_score(y_val, y_pred_logres1)\n",
    "print('Accuracy score using Logistic Regression Model is', acc_logres1)\n",
    "print('F1 score using Logistic Regression Model is', f1_score(y_val, y_pred_logres1))"
   ]
  },
  {
   "cell_type": "markdown",
   "id": "9fe125a3",
   "metadata": {},
   "source": [
    "Significance of Hyperparameter tuning:\n",
    "Hyperparameters are crucial as they control the overall behaviour of a machine learning model. The ultimate goal is to find an optimal combination of hyperparameters that minimizes a predefined loss function to give better results.\n",
    "There is a drastic improvement in model after hyperparameter tuning for Logistic regression \n"
   ]
  },
  {
   "cell_type": "markdown",
   "id": "a2d355dd",
   "metadata": {},
   "source": [
    "# Feature Importance"
   ]
  },
  {
   "cell_type": "code",
   "execution_count": 92,
   "id": "fd15940e",
   "metadata": {},
   "outputs": [
    {
     "name": "stdout",
     "output_type": "stream",
     "text": [
      "Feature: 0, Score: -0.00832\n",
      "Feature: 1, Score: -0.00786\n",
      "Feature: 2, Score: 0.14970\n",
      "Feature: 3, Score: 0.00481\n",
      "Feature: 4, Score: -0.00655\n",
      "Feature: 5, Score: -0.00529\n",
      "Feature: 6, Score: -0.13365\n",
      "Feature: 7, Score: 0.00556\n",
      "Feature: 8, Score: 0.01606\n",
      "Feature: 9, Score: 0.00473\n",
      "Feature: 10, Score: -0.00253\n",
      "Feature: 11, Score: 0.16527\n",
      "Feature: 12, Score: 0.01080\n",
      "Feature: 13, Score: -0.00466\n",
      "Feature: 14, Score: 0.16413\n",
      "Feature: 15, Score: 0.00100\n",
      "Feature: 16, Score: -0.00030\n",
      "Feature: 17, Score: -0.00573\n",
      "Feature: 18, Score: -0.24670\n",
      "Feature: 19, Score: 0.13191\n",
      "Feature: 20, Score: -0.00727\n",
      "Feature: 21, Score: -0.35767\n",
      "Feature: 22, Score: 0.00106\n",
      "Feature: 23, Score: 0.00593\n",
      "Feature: 24, Score: -0.21734\n",
      "Feature: 25, Score: 0.01313\n",
      "Feature: 26, Score: 0.00514\n",
      "Feature: 27, Score: -0.20750\n",
      "Feature: 28, Score: -0.00073\n",
      "Feature: 29, Score: -0.20305\n"
     ]
    },
    {
     "data": {
      "image/png": "[encoded data removed]",
      "text/plain": [
       "<Figure size 432x288 with 1 Axes>"
      ]
     },
     "metadata": {
      "needs_background": "light"
     },
     "output_type": "display_data"
    }
   ],
   "source": [
    "# logistic regression for feature importance\n",
    "from sklearn.datasets import make_classification\n",
    "from sklearn.linear_model import LogisticRegression\n",
    "from matplotlib import pyplot\n",
    "# define dataset\n",
    "X, y = make_classification(n_samples=94000, n_features=30, n_informative=5, n_redundant=5, random_state=1)\n",
    "# define the model\n",
    "model = LogisticRegression()\n",
    "# fit the model\n",
    "model.fit(X, y)\n",
    "# get importance\n",
    "importance = model.coef_[0]\n",
    "# summarize feature importance\n",
    "for i,v in enumerate(importance):\n",
    "    print('Feature: %0d, Score: %.5f' % (i,v))\n",
    "    \n",
    "# plot feature importance\n",
    "pyplot.bar([x for x in range(len(importance))], importance)\n",
    "pyplot.show()"
   ]
  },
  {
   "cell_type": "markdown",
   "id": "abf814f3",
   "metadata": {},
   "source": [
    "In the section, importance of differnt features are evaluated.\n",
    "The coefficients are both positive and negative. The positive scores indicate how the feature that predicts 1, whereas the negative scores indicate a feature that predicts class 0.\n",
    "Feature 2,11,14,19 has more influnece on the predicting 1, Whereas feature 18,21,24,27 and 29 has more influence in predicting 0"
   ]
  },
  {
   "cell_type": "markdown",
   "id": "df18bb1a",
   "metadata": {},
   "source": [
    "# Decison Tree Classification Model"
   ]
  },
  {
   "cell_type": "code",
   "execution_count": 93,
   "id": "69ae207f",
   "metadata": {},
   "outputs": [
    {
     "data": {
      "text/plain": [
       "DecisionTreeClassifier(criterion='entropy', random_state=0)"
      ]
     },
     "execution_count": 93,
     "metadata": {},
     "output_type": "execute_result"
    }
   ],
   "source": [
    "#Initializing decision tree classifier\n",
    "from sklearn.tree import DecisionTreeClassifier\n",
    "classifier_dectree = DecisionTreeClassifier(criterion = 'entropy', random_state = 0)\n",
    "classifier_dectree.fit(x_train, y_train)"
   ]
  },
  {
   "cell_type": "code",
   "execution_count": 94,
   "id": "0f383328",
   "metadata": {},
   "outputs": [],
   "source": [
    "# Pediction based on decision tree classifier\n",
    "y_pred_dectree = classifier_dectree.predict(x_val)\n",
    "y_pred_dectree_prob = classifier_dectree.predict_proba(x_val)\n",
    "resulttree = y_pred_dectree.copy()"
   ]
  },
  {
   "cell_type": "code",
   "execution_count": 95,
   "id": "b89ddfc1",
   "metadata": {},
   "outputs": [
    {
     "name": "stdout",
     "output_type": "stream",
     "text": [
      "[[9337  663]\n",
      " [1169  331]]\n",
      "0.8406956521739131\n",
      "F1 score using Decision Tree is 0.2654370489174018\n"
     ]
    }
   ],
   "source": [
    "# Confusion Matrix to compare the score\n",
    "from sklearn.metrics import confusion_matrix, accuracy_score\n",
    "cm_dectree = confusion_matrix(y_val, y_pred_dectree)\n",
    "print(cm_dectree)\n",
    "accr_dectree = accuracy_score(y_val, y_pred_dectree)\n",
    "print(accr_dectree)\n",
    "print('F1 score using Decision Tree is', f1_score(y_val, y_pred_dectree))"
   ]
  },
  {
   "cell_type": "markdown",
   "id": "63f43bf7",
   "metadata": {},
   "source": [
    "## Hyperparameter tuning for Decision Tree classification Model"
   ]
  },
  {
   "cell_type": "code",
   "execution_count": 96,
   "id": "e09727c4",
   "metadata": {},
   "outputs": [
    {
     "data": {
      "text/plain": [
       "GridSearchCV(cv=5,\n",
       "             estimator=DecisionTreeClassifier(criterion='entropy',\n",
       "                                              random_state=0),\n",
       "             n_jobs=-1,\n",
       "             param_grid={'criterion': ['gini', 'entropy'],\n",
       "                         'max_depth': [5, 25, 50, 100, 150]})"
      ]
     },
     "execution_count": 96,
     "metadata": {},
     "output_type": "execute_result"
    }
   ],
   "source": [
    "\n",
    "from sklearn.model_selection import GridSearchCV\n",
    "treepara = {'criterion':['gini','entropy'],'max_depth':[5,25,50,100,150]}\n",
    "c_dectree = GridSearchCV(classifier_dectree, treepara, cv =5,n_jobs =-1)\n",
    "c_dectree.fit(x_train,y_train)"
   ]
  },
  {
   "cell_type": "code",
   "execution_count": 97,
   "id": "b5e8a1ab",
   "metadata": {},
   "outputs": [
    {
     "data": {
      "text/plain": [
       "{'criterion': 'entropy', 'max_depth': 50}"
      ]
     },
     "execution_count": 97,
     "metadata": {},
     "output_type": "execute_result"
    }
   ],
   "source": [
    "c_dectree.best_params_"
   ]
  },
  {
   "cell_type": "markdown",
   "id": "c2a879f1",
   "metadata": {},
   "source": [
    " The following are the best parameters for the Decision Tree Model"
   ]
  },
  {
   "cell_type": "code",
   "execution_count": 98,
   "id": "21d1c0b1",
   "metadata": {},
   "outputs": [
    {
     "data": {
      "text/plain": [
       "DecisionTreeClassifier(criterion='entropy', max_depth=50)"
      ]
     },
     "execution_count": 98,
     "metadata": {},
     "output_type": "execute_result"
    }
   ],
   "source": [
    "classifier_dectree1 = DecisionTreeClassifier(criterion = 'entropy', max_depth = 50)\n",
    "classifier_dectree1.fit(x_train, y_train)"
   ]
  },
  {
   "cell_type": "code",
   "execution_count": 99,
   "id": "467c2323",
   "metadata": {},
   "outputs": [],
   "source": [
    "y_pred_dectree1 = classifier_dectree.predict(x_val)\n",
    "y_pred_dectree1_prob = classifier_dectree.predict_proba(x_val)\n",
    "result2 = y_pred_dectree1.copy()\n",
    "pd.DataFrame(result2).to_csv(\"result2.csv\")"
   ]
  },
  {
   "cell_type": "code",
   "execution_count": 100,
   "id": "2eac1639",
   "metadata": {},
   "outputs": [
    {
     "name": "stdout",
     "output_type": "stream",
     "text": [
      "[[9337  663]\n",
      " [1169  331]]\n",
      "Accuracy Decision Tree 0.8406956521739131\n",
      "F1 score Decision Tree 0.2654370489174018\n"
     ]
    }
   ],
   "source": [
    "from sklearn.metrics import confusion_matrix, accuracy_score\n",
    "cm_dectree1 = confusion_matrix(y_val, y_pred_dectree1)\n",
    "print(cm_dectree1)\n",
    "accr_dectree1 = accuracy_score(y_val, y_pred_dectree1)\n",
    "print('Accuracy Decision Tree',accr_dectree1)\n",
    "print('F1 score Decision Tree',f1_score(y_val,y_pred_dectree1))"
   ]
  },
  {
   "cell_type": "markdown",
   "id": "f221d16e",
   "metadata": {},
   "source": [
    "## Model performance\n",
    "F1 score metric used for evaluating the model. It has been found based on the confusion matrix and F1 score, Logistic regression model is performing better.\n",
    "For getting more confidence on the model, an additional exercise is done to perform the prediction using the Artificial Neural Network"
   ]
  },
  {
   "cell_type": "markdown",
   "id": "674c2235",
   "metadata": {},
   "source": [
    "# Artificial Neural Network"
   ]
  },
  {
   "cell_type": "code",
   "execution_count": 101,
   "id": "27b313a0",
   "metadata": {},
   "outputs": [],
   "source": [
    "#using neural Network\n",
    "import tensorflow as tf\n",
    "ann = tf.keras.models.Sequential()\n",
    "ann.add(tf.keras.layers.Dense(units=24, activation='relu'))\n",
    "ann.add(tf.keras.layers.Dropout(0.3))\n",
    "ann.add(tf.keras.layers.Dense(units=12, activation='relu'))\n",
    "ann.add(tf.keras.layers.Dropout(0.3))\n",
    "ann.add(tf.keras.layers.Dense(units=12, activation='relu'))\n",
    "ann.add(tf.keras.layers.Dropout(0.3))\n",
    "ann.add(tf.keras.layers.Dense(units=1, activation='sigmoid'))"
   ]
  },
  {
   "cell_type": "markdown",
   "id": "6e67e683",
   "metadata": {},
   "source": [
    "The input layer is connected to the output layer using the hidden layers.\n",
    "The drop out layers has been introduced for regularization."
   ]
  },
  {
   "cell_type": "code",
   "execution_count": 102,
   "id": "8757c5c4",
   "metadata": {},
   "outputs": [],
   "source": [
    "ann.compile(optimizer = 'adam', loss = 'binary_crossentropy', metrics = 'AUC')"
   ]
  },
  {
   "cell_type": "code",
   "execution_count": 103,
   "id": "1c134599",
   "metadata": {},
   "outputs": [
    {
     "name": "stdout",
     "output_type": "stream",
     "text": [
      "Epoch 1/50\n",
      "5625/5625 [==============================] - 9s 2ms/step - loss: 0.5374 - auc: 0.8123\n",
      "Epoch 2/50\n",
      "5625/5625 [==============================] - 9s 2ms/step - loss: 0.5055 - auc: 0.8351\n",
      "Epoch 3/50\n",
      "5625/5625 [==============================] - 9s 2ms/step - loss: 0.4947 - auc: 0.8432\n",
      "Epoch 4/50\n",
      "5625/5625 [==============================] - 9s 2ms/step - loss: 0.4881 - auc: 0.8478\n",
      "Epoch 5/50\n",
      "5625/5625 [==============================] - 9s 2ms/step - loss: 0.4836 - auc: 0.8511\n",
      "Epoch 6/50\n",
      "5625/5625 [==============================] - 8s 1ms/step - loss: 0.4771 - auc: 0.8556\n",
      "Epoch 7/50\n",
      "5625/5625 [==============================] - 9s 2ms/step - loss: 0.4709 - auc: 0.8598\n",
      "Epoch 8/50\n",
      "5625/5625 [==============================] - 7s 1ms/step - loss: 0.4667 - auc: 0.8625\n",
      "Epoch 9/50\n",
      "5625/5625 [==============================] - 8s 1ms/step - loss: 0.4623 - auc: 0.8654\n",
      "Epoch 10/50\n",
      "5625/5625 [==============================] - 9s 2ms/step - loss: 0.4624 - auc: 0.8655\n",
      "Epoch 11/50\n",
      "5625/5625 [==============================] - 9s 2ms/step - loss: 0.4598 - auc: 0.8671\n",
      "Epoch 12/50\n",
      "5625/5625 [==============================] - 9s 2ms/step - loss: 0.4591 - auc: 0.8673\n",
      "Epoch 13/50\n",
      "5625/5625 [==============================] - 9s 2ms/step - loss: 0.4578 - auc: 0.8681\n",
      "Epoch 14/50\n",
      "5625/5625 [==============================] - 8s 1ms/step - loss: 0.4574 - auc: 0.8684\n",
      "Epoch 15/50\n",
      "5625/5625 [==============================] - 7s 1ms/step - loss: 0.4572 - auc: 0.8686\n",
      "Epoch 16/50\n",
      "5625/5625 [==============================] - 7s 1ms/step - loss: 0.4564 - auc: 0.8694\n",
      "Epoch 17/50\n",
      "5625/5625 [==============================] - 8s 1ms/step - loss: 0.4568 - auc: 0.8688\n",
      "Epoch 18/50\n",
      "5625/5625 [==============================] - 9s 2ms/step - loss: 0.4557 - auc: 0.8692\n",
      "Epoch 19/50\n",
      "5625/5625 [==============================] - 8s 2ms/step - loss: 0.4551 - auc: 0.8696\n",
      "Epoch 20/50\n",
      "5625/5625 [==============================] - 9s 2ms/step - loss: 0.4559 - auc: 0.8691\n",
      "Epoch 21/50\n",
      "5625/5625 [==============================] - 8s 1ms/step - loss: 0.4544 - auc: 0.8703\n",
      "Epoch 22/50\n",
      "5625/5625 [==============================] - 9s 2ms/step - loss: 0.4529 - auc: 0.8712\n",
      "Epoch 23/50\n",
      "5625/5625 [==============================] - 9s 2ms/step - loss: 0.4531 - auc: 0.8710\n",
      "Epoch 24/50\n",
      "5625/5625 [==============================] - 9s 2ms/step - loss: 0.4543 - auc: 0.8704\n",
      "Epoch 25/50\n",
      "5625/5625 [==============================] - 9s 2ms/step - loss: 0.4517 - auc: 0.8718\n",
      "Epoch 26/50\n",
      "5625/5625 [==============================] - 9s 2ms/step - loss: 0.4522 - auc: 0.8713\n",
      "Epoch 27/50\n",
      "5625/5625 [==============================] - 9s 2ms/step - loss: 0.4518 - auc: 0.8719\n",
      "Epoch 28/50\n",
      "5625/5625 [==============================] - 9s 2ms/step - loss: 0.4502 - auc: 0.8727\n",
      "Epoch 29/50\n",
      "5625/5625 [==============================] - 8s 1ms/step - loss: 0.4517 - auc: 0.8720\n",
      "Epoch 30/50\n",
      "5625/5625 [==============================] - 8s 2ms/step - loss: 0.4524 - auc: 0.8716\n",
      "Epoch 31/50\n",
      "5625/5625 [==============================] - 9s 2ms/step - loss: 0.4512 - auc: 0.8718\n",
      "Epoch 32/50\n",
      "5625/5625 [==============================] - 9s 2ms/step - loss: 0.4515 - auc: 0.8720\n",
      "Epoch 33/50\n",
      "5625/5625 [==============================] - 8s 1ms/step - loss: 0.4505 - auc: 0.8725\n",
      "Epoch 34/50\n",
      "5625/5625 [==============================] - 9s 2ms/step - loss: 0.4497 - auc: 0.8730\n",
      "Epoch 35/50\n",
      "5625/5625 [==============================] - 8s 1ms/step - loss: 0.4502 - auc: 0.8729\n",
      "Epoch 36/50\n",
      "5625/5625 [==============================] - 9s 2ms/step - loss: 0.4498 - auc: 0.8731\n",
      "Epoch 37/50\n",
      "5625/5625 [==============================] - 9s 2ms/step - loss: 0.4503 - auc: 0.8728\n",
      "Epoch 38/50\n",
      "5625/5625 [==============================] - 9s 2ms/step - loss: 0.4503 - auc: 0.8728\n",
      "Epoch 39/50\n",
      "5625/5625 [==============================] - 9s 2ms/step - loss: 0.4490 - auc: 0.8733\n",
      "Epoch 40/50\n",
      "5625/5625 [==============================] - 9s 2ms/step - loss: 0.4489 - auc: 0.8736\n",
      "Epoch 41/50\n",
      "5625/5625 [==============================] - 9s 2ms/step - loss: 0.4496 - auc: 0.8733\n",
      "Epoch 42/50\n",
      "5625/5625 [==============================] - 9s 2ms/step - loss: 0.4499 - auc: 0.8732\n",
      "Epoch 43/50\n",
      "5625/5625 [==============================] - 9s 2ms/step - loss: 0.4492 - auc: 0.8735\n",
      "Epoch 44/50\n",
      "5625/5625 [==============================] - 9s 2ms/step - loss: 0.4481 - auc: 0.8741\n",
      "Epoch 45/50\n",
      "5625/5625 [==============================] - 9s 2ms/step - loss: 0.4484 - auc: 0.8735\n",
      "Epoch 46/50\n",
      "5625/5625 [==============================] - 9s 2ms/step - loss: 0.4494 - auc: 0.8733\n",
      "Epoch 47/50\n",
      "5625/5625 [==============================] - 9s 2ms/step - loss: 0.4486 - auc: 0.8735\n",
      "Epoch 48/50\n",
      "5625/5625 [==============================] - 8s 1ms/step - loss: 0.4487 - auc: 0.8737\n",
      "Epoch 49/50\n",
      "5625/5625 [==============================] - 8s 1ms/step - loss: 0.4483 - auc: 0.8739\n",
      "Epoch 50/50\n",
      "5625/5625 [==============================] - 9s 2ms/step - loss: 0.4476 - auc: 0.8744\n"
     ]
    },
    {
     "data": {
      "text/plain": [
       "<keras.callbacks.History at 0x22a02bb80a0>"
      ]
     },
     "execution_count": 103,
     "metadata": {},
     "output_type": "execute_result"
    }
   ],
   "source": [
    "ann.fit(x_train, y_train, batch_size = 32, epochs = 50)"
   ]
  },
  {
   "cell_type": "code",
   "execution_count": 104,
   "id": "a1710621",
   "metadata": {},
   "outputs": [
    {
     "name": "stdout",
     "output_type": "stream",
     "text": [
      "F1 Score NN: 0.45218680504077097\n"
     ]
    }
   ],
   "source": [
    "y_pred_ann_prob = ann.predict(x_val)\n",
    "y_pred_ann = y_pred_ann_prob.copy()\n",
    "threshold = 0.5\n",
    "#print('F1 Score:', f1_score(y_test, y_pred_ann > threshold))\n",
    "#print('Acc Score:', np.sum(y_test == (y_pred_ann > threshold))/len(y_test))\n",
    "for i in range(len(y_pred_ann)):\n",
    "    if y_pred_ann[i] >= threshold:\n",
    "        y_pred_ann[i] = 1\n",
    "    else:\n",
    "        y_pred_ann[i] = 0\n",
    "print('F1 Score NN:', f1_score(y_val, y_pred_ann)) "
   ]
  },
  {
   "cell_type": "markdown",
   "id": "040dac2b",
   "metadata": {},
   "source": [
    "# Model Comparison based on AUC (Area Under the ROC Curve)"
   ]
  },
  {
   "cell_type": "code",
   "execution_count": 105,
   "id": "db1e6c0a",
   "metadata": {},
   "outputs": [],
   "source": [
    "from sklearn.metrics import roc_curve, roc_auc_score\n",
    "#random_probs = [0 for _ in range(len(y_val))]\n",
    "random_probs = [np.random.randint(2) for _ in range(len(y_val))]\n",
    "random_auc = roc_auc_score(y_val, random_probs)\n",
    "logres_auc = roc_auc_score(y_val, y_pred_logres1_prob[:,1])\n",
    "dectree = roc_auc_score(y_val, y_pred_dectree1_prob[:,1])\n",
    "ann_d = roc_auc_score(y_val, y_pred_ann_prob)"
   ]
  },
  {
   "cell_type": "code",
   "execution_count": 106,
   "id": "9663aec0",
   "metadata": {},
   "outputs": [
    {
     "name": "stdout",
     "output_type": "stream",
     "text": [
      "Logistic Regression: AUROC = 0.822\n",
      "Decision Tree: AUROC = 0.577\n",
      "Neural network: AUROC = 0.798\n"
     ]
    }
   ],
   "source": [
    "print('Logistic Regression: AUROC = %.3f' % (logres_auc))\n",
    "print('Decision Tree: AUROC = %.3f' % (dectree))\n",
    "print('Neural network: AUROC = %.3f' % (ann_d))"
   ]
  },
  {
   "cell_type": "code",
   "execution_count": 107,
   "id": "38b9a0bd",
   "metadata": {},
   "outputs": [],
   "source": [
    "r_fpr, r_tpr, _ = roc_curve(y_val, random_probs)\n",
    "rf_fpr, rf_tpr, _ = roc_curve(y_val, y_pred_logres1)\n",
    "nb_fpr, nb_tpr, _ = roc_curve(y_val, y_pred_dectree1)\n",
    "nn_fpr, nn_tpr, _ = roc_curve(y_val, y_pred_ann_prob)"
   ]
  },
  {
   "cell_type": "code",
   "execution_count": 108,
   "id": "a34beea1",
   "metadata": {},
   "outputs": [
    {
     "data": {
      "image/png": "[encoded data removed]",
      "text/plain": [
       "<Figure size 432x288 with 1 Axes>"
      ]
     },
     "metadata": {
      "needs_background": "light"
     },
     "output_type": "display_data"
    }
   ],
   "source": [
    "plt.plot(r_fpr, r_tpr, linestyle='--', label='Random prediction (AUROC = %0.3f)' % random_auc)\n",
    "plt.plot(rf_fpr, rf_tpr, marker='.', label='Logistic Regression (AUROC = %0.3f)' % logres_auc)\n",
    "plt.plot(nb_fpr, nb_tpr, marker='.', label='Decision Tree (AUROC = %0.3f)' % dectree)\n",
    "plt.plot(nn_fpr, nn_tpr, marker='.', label='Artificial Neural Network (AUROC = %0.3f)' % ann_d)\n",
    "# Title\n",
    "plt.title('ROC Plot')\n",
    "# Axis labels\n",
    "plt.xlabel('False Positive Rate')\n",
    "plt.ylabel('True Positive Rate')\n",
    "# Show legend\n",
    "plt.legend() # \n",
    "# Show plot\n",
    "plt.show()"
   ]
  },
  {
   "cell_type": "markdown",
   "id": "78b6e685",
   "metadata": {},
   "source": [
    "# CONCLUSION\n",
    "The F1 score metric is used for model performance performace evaluation. The models choosen for the compariosn are Logistic Regression and Decision Tree classifier. Additionally model prediction using ANN is also done for developing the better understanding.   \n",
    "F1 Scores for the models are evaluated as:\n",
    "- F1 Score Logistic Regression : 0.44\n",
    "- F1 Score Decision Tree Classifier : 0.27\n",
    "- F1 Score Artificial Neural Network : 0.45\n",
    "F1 score is the metric based on the true positive and false negative from the confusion matrix. The Logistic regression and ANN has perfored well in comparison to the decision tree based on the F  Score.\\\\\n",
    "The ROC (Receiver Operating Charateristics curve) summarizes the prediction performance of a classification model at all classification thresholds. Particularly, the ROC curve plots the False Positive Rate (FPR) on the X-axis and the True Positive Rate (TPR) on the Y-axis. \\\\\n",
    "Area under the ROC (AUC) provides a better overview to choose the model. Based on our data, Logistic regression has performed better in comparison to the degision tree. The improvement in the Logistic regression model after hyperparameter tuning and using L1 regulizer to fix the problem of under fitting and overfitting. It is used to balance the variance bais tradeoff."
   ]
  }
 ],
 "metadata": {
  "kernelspec": {
   "display_name": "Python 3 (ipykernel)",
   "language": "python",
   "name": "python3"
  },
  "language_info": {
   "codemirror_mode": {
    "name": "ipython",
    "version": 3
   },
   "file_extension": ".py",
   "mimetype": "text/x-python",
   "name": "python",
   "nbconvert_exporter": "python",
   "pygments_lexer": "ipython3",
   "version": "3.9.7"
  }
 },
 "nbformat": 4,
 "nbformat_minor": 5
}
